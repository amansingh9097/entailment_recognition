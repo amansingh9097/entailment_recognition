{
 "cells": [
  {
   "cell_type": "code",
   "execution_count": 1,
   "metadata": {},
   "outputs": [],
   "source": [
    "import pandas as pd\n",
    "import numpy as np\n",
    "import re\n"
   ]
  },
  {
   "cell_type": "code",
   "execution_count": 2,
   "metadata": {},
   "outputs": [
    {
     "name": "stdout",
     "output_type": "stream",
     "text": [
      "train dataset shape:  (9349, 3)\n",
      "train dataset shape:  (493, 2)\n",
      "train columns:  Index(['gold_label', 'sentence1', 'sentence2'], dtype='object')\n",
      "test columns:  Index(['sentence1', 'sentence2'], dtype='object')\n"
     ]
    }
   ],
   "source": [
    "train_dataset = pd.read_csv('dataset/train.csv')\n",
    "test_dataset = pd.read_csv('dataset/test.csv')\n",
    "\n",
    "print('train dataset shape: ', train_dataset.shape)\n",
    "print('train dataset shape: ', test_dataset.shape)\n",
    "print('train columns: ', train_dataset.columns)\n",
    "print('test columns: ', test_dataset.columns)"
   ]
  },
  {
   "cell_type": "code",
   "execution_count": 3,
   "metadata": {},
   "outputs": [
    {
     "data": {
      "text/html": [
       "<div>\n",
       "<style scoped>\n",
       "    .dataframe tbody tr th:only-of-type {\n",
       "        vertical-align: middle;\n",
       "    }\n",
       "\n",
       "    .dataframe tbody tr th {\n",
       "        vertical-align: top;\n",
       "    }\n",
       "\n",
       "    .dataframe thead th {\n",
       "        text-align: right;\n",
       "    }\n",
       "</style>\n",
       "<table border=\"1\" class=\"dataframe\">\n",
       "  <thead>\n",
       "    <tr style=\"text-align: right;\">\n",
       "      <th></th>\n",
       "      <th>gold_label</th>\n",
       "      <th>sentence1</th>\n",
       "      <th>sentence2</th>\n",
       "    </tr>\n",
       "  </thead>\n",
       "  <tbody>\n",
       "    <tr>\n",
       "      <th>0</th>\n",
       "      <td>contradiction</td>\n",
       "      <td>A group of men with cowboy hats are watching a...</td>\n",
       "      <td>A group of women are watching a horse race</td>\n",
       "    </tr>\n",
       "    <tr>\n",
       "      <th>1</th>\n",
       "      <td>entailment</td>\n",
       "      <td>A kid with his head shaved sitting and holding...</td>\n",
       "      <td>Child sits with a cigarette.</td>\n",
       "    </tr>\n",
       "    <tr>\n",
       "      <th>2</th>\n",
       "      <td>neutral</td>\n",
       "      <td>A woman riding a bicycle past a car and a grou...</td>\n",
       "      <td>A woman riding a bicycle near a group of her f...</td>\n",
       "    </tr>\n",
       "  </tbody>\n",
       "</table>\n",
       "</div>"
      ],
      "text/plain": [
       "      gold_label                                          sentence1  \\\n",
       "0  contradiction  A group of men with cowboy hats are watching a...   \n",
       "1     entailment  A kid with his head shaved sitting and holding...   \n",
       "2        neutral  A woman riding a bicycle past a car and a grou...   \n",
       "\n",
       "                                           sentence2  \n",
       "0         A group of women are watching a horse race  \n",
       "1                       Child sits with a cigarette.  \n",
       "2  A woman riding a bicycle near a group of her f...  "
      ]
     },
     "execution_count": 3,
     "metadata": {},
     "output_type": "execute_result"
    }
   ],
   "source": [
    "train_dataset.head(3)"
   ]
  },
  {
   "cell_type": "code",
   "execution_count": 4,
   "metadata": {},
   "outputs": [
    {
     "data": {
      "text/plain": [
       "gold_label                                        contradiction\n",
       "sentence1     Young children and parents splashing around a ...\n",
       "sentence2                       There are families eating lunch\n",
       "Name: 8, dtype: object"
      ]
     },
     "execution_count": 4,
     "metadata": {},
     "output_type": "execute_result"
    }
   ],
   "source": [
    "train_dataset.iloc[8]"
   ]
  },
  {
   "cell_type": "code",
   "execution_count": 5,
   "metadata": {},
   "outputs": [
    {
     "data": {
      "text/plain": [
       "True"
      ]
     },
     "execution_count": 5,
     "metadata": {},
     "output_type": "execute_result"
    }
   ],
   "source": [
    "# any cleaning needed?\n",
    "train_dataset.sentence1.str.contains(r'[^A-Za-z\\-]').any()"
   ]
  },
  {
   "cell_type": "code",
   "execution_count": 6,
   "metadata": {},
   "outputs": [],
   "source": [
    "# rem all non alphabetic characters, and lower case them\n",
    "train_dataset.sentence1 = train_dataset.sentence1.apply(lambda sent: \n",
    "                                                        re.sub(\"[^A-Za-z\\-']+\", ' ', str(sent)).lower().replace(\"'\", ''))\n",
    "train_dataset.sentence2 = train_dataset.sentence2.apply(lambda sent: \n",
    "                                                        re.sub(\"[^A-Za-z\\-']+\", ' ', str(sent)).lower().replace(\"'\", ''))"
   ]
  },
  {
   "cell_type": "code",
   "execution_count": 7,
   "metadata": {},
   "outputs": [
    {
     "data": {
      "text/plain": [
       "array(['contradiction', 'entailment', 'neutral'], dtype=object)"
      ]
     },
     "execution_count": 7,
     "metadata": {},
     "output_type": "execute_result"
    }
   ],
   "source": [
    "train_dataset.gold_label.unique()"
   ]
  },
  {
   "cell_type": "code",
   "execution_count": 8,
   "metadata": {},
   "outputs": [],
   "source": [
    "# few labels, so label encoding directly\n",
    "# print(\"before encoding:\")\n",
    "# print(train_dataset.gold_label[:5])\n",
    "train_dataset.gold_label = train_dataset.gold_label.map({'contradiction':0, 'entailment':1, 'neutral':2})"
   ]
  },
  {
   "cell_type": "code",
   "execution_count": 9,
   "metadata": {},
   "outputs": [],
   "source": [
    "# print(\"after encoding:\")\n",
    "# train_dataset.gold_label[:5]"
   ]
  },
  {
   "cell_type": "code",
   "execution_count": 10,
   "metadata": {},
   "outputs": [
    {
     "data": {
      "text/html": [
       "<div>\n",
       "<style scoped>\n",
       "    .dataframe tbody tr th:only-of-type {\n",
       "        vertical-align: middle;\n",
       "    }\n",
       "\n",
       "    .dataframe tbody tr th {\n",
       "        vertical-align: top;\n",
       "    }\n",
       "\n",
       "    .dataframe thead th {\n",
       "        text-align: right;\n",
       "    }\n",
       "</style>\n",
       "<table border=\"1\" class=\"dataframe\">\n",
       "  <thead>\n",
       "    <tr style=\"text-align: right;\">\n",
       "      <th></th>\n",
       "      <th>gold_label</th>\n",
       "      <th>sentence1</th>\n",
       "      <th>sentence2</th>\n",
       "    </tr>\n",
       "  </thead>\n",
       "  <tbody>\n",
       "    <tr>\n",
       "      <th>1481</th>\n",
       "      <td>0</td>\n",
       "      <td>a man drags a young boy in swim trunks into th...</td>\n",
       "      <td>a man is baking a loaf of bread</td>\n",
       "    </tr>\n",
       "    <tr>\n",
       "      <th>1196</th>\n",
       "      <td>0</td>\n",
       "      <td>a man and a woman are talking in a park</td>\n",
       "      <td>a man and woman are talking in the aquarium</td>\n",
       "    </tr>\n",
       "    <tr>\n",
       "      <th>6306</th>\n",
       "      <td>0</td>\n",
       "      <td>four guys with guns and army gear</td>\n",
       "      <td>the four guys are playing hopscotch</td>\n",
       "    </tr>\n",
       "    <tr>\n",
       "      <th>2596</th>\n",
       "      <td>0</td>\n",
       "      <td>a man wearing a white and blue shirt cooking c...</td>\n",
       "      <td>a group of people are watching some ducks at t...</td>\n",
       "    </tr>\n",
       "    <tr>\n",
       "      <th>8639</th>\n",
       "      <td>1</td>\n",
       "      <td>rival female basketball teams are playing a ga...</td>\n",
       "      <td>two female basketball teams are playing a game...</td>\n",
       "    </tr>\n",
       "  </tbody>\n",
       "</table>\n",
       "</div>"
      ],
      "text/plain": [
       "      gold_label                                          sentence1  \\\n",
       "1481           0  a man drags a young boy in swim trunks into th...   \n",
       "1196           0            a man and a woman are talking in a park   \n",
       "6306           0                 four guys with guns and army gear    \n",
       "2596           0  a man wearing a white and blue shirt cooking c...   \n",
       "8639           1  rival female basketball teams are playing a ga...   \n",
       "\n",
       "                                              sentence2  \n",
       "1481                   a man is baking a loaf of bread   \n",
       "1196       a man and woman are talking in the aquarium   \n",
       "6306               the four guys are playing hopscotch   \n",
       "2596  a group of people are watching some ducks at t...  \n",
       "8639  two female basketball teams are playing a game...  "
      ]
     },
     "execution_count": 10,
     "metadata": {},
     "output_type": "execute_result"
    }
   ],
   "source": [
    "train_dataset.sample(5)"
   ]
  },
  {
   "cell_type": "markdown",
   "metadata": {},
   "source": [
    "loading the pre baked w2v model with weights<br>\n",
    "[Download link](https://drive.google.com/uc?id=0B7XkCwpI5KDYNlNUTTlSS21pQmM&export=download)"
   ]
  },
  {
   "cell_type": "code",
   "execution_count": 11,
   "metadata": {},
   "outputs": [
    {
     "name": "stderr",
     "output_type": "stream",
     "text": [
      "C:\\ProgramData\\Anaconda3\\lib\\site-packages\\smart_open\\smart_open_lib.py:398: UserWarning: This function is deprecated, use smart_open.open instead. See the migration notes for details: https://github.com/RaRe-Technologies/smart_open/blob/master/README.rst#migrating-to-the-new-open-function\n",
      "  'See the migration notes for details: %s' % _MIGRATION_NOTES_URL\n"
     ]
    }
   ],
   "source": [
    "from gensim.models import KeyedVectors\n",
    "from smart_open import open\n",
    "\n",
    "max_vocab_size = 100000\n",
    "\n",
    "w2v_model = KeyedVectors.load_word2vec_format('GoogleNews-vectors/GoogleNews-vectors-negative300.bin', \n",
    "                                              binary=True, limit=max_vocab_size)"
   ]
  },
  {
   "cell_type": "code",
   "execution_count": 12,
   "metadata": {
    "scrolled": true
   },
   "outputs": [
    {
     "data": {
      "text/plain": [
       "array([ 0.32617188,  0.13085938,  0.03466797, -0.08300781,  0.08984375,\n",
       "       -0.04125977, -0.19824219,  0.00689697,  0.14355469,  0.0019455 ,\n",
       "        0.02880859, -0.25      , -0.08398438, -0.15136719, -0.10205078,\n",
       "        0.04077148, -0.09765625,  0.05932617,  0.02978516, -0.10058594,\n",
       "       -0.13085938,  0.001297  ,  0.02612305, -0.27148438,  0.06396484,\n",
       "       -0.19140625, -0.078125  ,  0.25976562,  0.375     , -0.04541016,\n",
       "        0.16210938,  0.13671875, -0.06396484, -0.02062988, -0.09667969,\n",
       "        0.25390625,  0.24804688, -0.12695312,  0.07177734,  0.3203125 ,\n",
       "        0.03149414, -0.03857422,  0.21191406, -0.00811768,  0.22265625,\n",
       "       -0.13476562, -0.07617188,  0.01049805, -0.05175781,  0.03808594,\n",
       "       -0.13378906,  0.125     ,  0.0559082 , -0.18261719,  0.08154297,\n",
       "       -0.08447266, -0.07763672, -0.04345703,  0.08105469, -0.01092529,\n",
       "        0.17480469,  0.30664062, -0.04321289, -0.01416016,  0.09082031,\n",
       "       -0.00927734, -0.03442383, -0.11523438,  0.12451172, -0.0246582 ,\n",
       "        0.08544922,  0.14355469, -0.27734375,  0.03662109, -0.11035156,\n",
       "        0.13085938, -0.01721191, -0.08056641, -0.00708008, -0.02954102,\n",
       "        0.30078125, -0.09033203,  0.03149414, -0.18652344, -0.11181641,\n",
       "        0.10253906, -0.25976562, -0.02209473,  0.16796875, -0.05322266,\n",
       "       -0.14550781, -0.01049805, -0.03039551, -0.03857422,  0.11523438,\n",
       "       -0.0062561 , -0.13964844,  0.08007812,  0.06103516, -0.15332031,\n",
       "       -0.11132812, -0.14160156,  0.19824219, -0.06933594,  0.29296875,\n",
       "       -0.16015625,  0.20898438,  0.00041771,  0.01831055, -0.20214844,\n",
       "        0.04760742,  0.05810547, -0.0123291 , -0.01989746, -0.00364685,\n",
       "       -0.0135498 , -0.08251953, -0.03149414,  0.00717163,  0.20117188,\n",
       "        0.08300781, -0.0480957 , -0.26367188, -0.09667969, -0.22558594,\n",
       "       -0.09667969,  0.06494141, -0.02502441,  0.08496094,  0.03198242,\n",
       "       -0.07568359, -0.25390625, -0.11669922, -0.01446533, -0.16015625,\n",
       "       -0.00701904, -0.05712891,  0.02807617, -0.09179688,  0.25195312,\n",
       "        0.24121094,  0.06640625,  0.12988281,  0.17089844, -0.13671875,\n",
       "        0.1875    , -0.10009766, -0.04199219, -0.12011719,  0.00524902,\n",
       "        0.15625   , -0.203125  , -0.07128906, -0.06103516,  0.01635742,\n",
       "        0.18261719,  0.03588867, -0.04248047,  0.16796875, -0.15039062,\n",
       "       -0.16992188,  0.01831055,  0.27734375, -0.01269531, -0.0390625 ,\n",
       "       -0.15429688,  0.18457031, -0.07910156,  0.09033203, -0.02709961,\n",
       "        0.08251953,  0.06738281, -0.16113281, -0.19628906, -0.15234375,\n",
       "       -0.04711914,  0.04760742,  0.05908203, -0.16894531, -0.14941406,\n",
       "        0.12988281,  0.04321289,  0.02624512, -0.1796875 , -0.19628906,\n",
       "        0.06445312,  0.08935547,  0.1640625 , -0.03808594, -0.09814453,\n",
       "       -0.01483154,  0.1875    ,  0.12792969,  0.22753906,  0.01818848,\n",
       "       -0.07958984, -0.11376953, -0.06933594, -0.15527344, -0.08105469,\n",
       "       -0.09277344, -0.11328125, -0.15136719, -0.08007812, -0.05126953,\n",
       "       -0.15332031,  0.11669922,  0.06835938,  0.0324707 , -0.33984375,\n",
       "       -0.08154297, -0.08349609,  0.04003906,  0.04907227, -0.24121094,\n",
       "       -0.13476562, -0.05932617,  0.12158203, -0.34179688,  0.16503906,\n",
       "        0.06176758, -0.18164062,  0.20117188, -0.07714844,  0.1640625 ,\n",
       "        0.00402832,  0.30273438, -0.10009766, -0.13671875, -0.05957031,\n",
       "        0.0625    , -0.21289062, -0.06542969,  0.1796875 , -0.07763672,\n",
       "       -0.01928711, -0.15039062, -0.00106049,  0.03417969,  0.03344727,\n",
       "        0.19335938,  0.01965332, -0.19921875, -0.10644531,  0.01525879,\n",
       "        0.00927734,  0.01416016, -0.02392578,  0.05883789,  0.02368164,\n",
       "        0.125     ,  0.04760742, -0.05566406,  0.11572266,  0.14746094,\n",
       "        0.1015625 , -0.07128906, -0.07714844, -0.12597656,  0.0291748 ,\n",
       "        0.09521484, -0.12402344, -0.109375  , -0.12890625,  0.16308594,\n",
       "        0.28320312, -0.03149414,  0.12304688, -0.23242188, -0.09375   ,\n",
       "       -0.12988281,  0.0135498 , -0.03881836, -0.08251953,  0.00897217,\n",
       "        0.16308594,  0.10546875, -0.13867188, -0.16503906, -0.03857422,\n",
       "        0.10839844, -0.10498047,  0.06396484,  0.38867188, -0.05981445,\n",
       "       -0.0612793 , -0.10449219, -0.16796875,  0.07177734,  0.13964844,\n",
       "        0.15527344, -0.03125   , -0.20214844, -0.12988281, -0.10058594,\n",
       "       -0.06396484, -0.08349609, -0.30273438, -0.08007812,  0.02099609],\n",
       "      dtype=float32)"
      ]
     },
     "execution_count": 12,
     "metadata": {},
     "output_type": "execute_result"
    }
   ],
   "source": [
    "w2v_model['man']"
   ]
  },
  {
   "cell_type": "code",
   "execution_count": 13,
   "metadata": {},
   "outputs": [
    {
     "data": {
      "text/plain": [
       "(100001, 300)"
      ]
     },
     "execution_count": 13,
     "metadata": {},
     "output_type": "execute_result"
    }
   ],
   "source": [
    "embeddings = w2v_model.vectors[:max_vocab_size,:]\n",
    "embeddings = np.concatenate((np.zeros((1,300)), embeddings))\n",
    "embeddings.shape"
   ]
  },
  {
   "cell_type": "code",
   "execution_count": 14,
   "metadata": {},
   "outputs": [],
   "source": [
    "word2id = {word:ix + 1 for ix, word in enumerate(w2v_model.index2word) if ix < max_vocab_size}"
   ]
  },
  {
   "cell_type": "code",
   "execution_count": 15,
   "metadata": {
    "scrolled": true
   },
   "outputs": [
    {
     "name": "stdout",
     "output_type": "stream",
     "text": [
      "word id: 252\n",
      "word vector: [ 0.32617188  0.13085938  0.03466797 -0.08300781  0.08984375 -0.04125977\n",
      " -0.19824219  0.00689697  0.14355469  0.0019455   0.02880859 -0.25\n",
      " -0.08398438 -0.15136719 -0.10205078  0.04077148 -0.09765625  0.05932617\n",
      "  0.02978516 -0.10058594 -0.13085938  0.001297    0.02612305 -0.27148438\n",
      "  0.06396484 -0.19140625 -0.078125    0.25976562  0.375      -0.04541016\n",
      "  0.16210938  0.13671875 -0.06396484 -0.02062988 -0.09667969  0.25390625\n",
      "  0.24804688 -0.12695312  0.07177734  0.3203125   0.03149414 -0.03857422\n",
      "  0.21191406 -0.00811768  0.22265625 -0.13476562 -0.07617188  0.01049805\n",
      " -0.05175781  0.03808594 -0.13378906  0.125       0.0559082  -0.18261719\n",
      "  0.08154297 -0.08447266 -0.07763672 -0.04345703  0.08105469 -0.01092529\n",
      "  0.17480469  0.30664062 -0.04321289 -0.01416016  0.09082031 -0.00927734\n",
      " -0.03442383 -0.11523438  0.12451172 -0.0246582   0.08544922  0.14355469\n",
      " -0.27734375  0.03662109 -0.11035156  0.13085938 -0.01721191 -0.08056641\n",
      " -0.00708008 -0.02954102  0.30078125 -0.09033203  0.03149414 -0.18652344\n",
      " -0.11181641  0.10253906 -0.25976562 -0.02209473  0.16796875 -0.05322266\n",
      " -0.14550781 -0.01049805 -0.03039551 -0.03857422  0.11523438 -0.0062561\n",
      " -0.13964844  0.08007812  0.06103516 -0.15332031 -0.11132812 -0.14160156\n",
      "  0.19824219 -0.06933594  0.29296875 -0.16015625  0.20898438  0.00041771\n",
      "  0.01831055 -0.20214844  0.04760742  0.05810547 -0.0123291  -0.01989746\n",
      " -0.00364685 -0.0135498  -0.08251953 -0.03149414  0.00717163  0.20117188\n",
      "  0.08300781 -0.0480957  -0.26367188 -0.09667969 -0.22558594 -0.09667969\n",
      "  0.06494141 -0.02502441  0.08496094  0.03198242 -0.07568359 -0.25390625\n",
      " -0.11669922 -0.01446533 -0.16015625 -0.00701904 -0.05712891  0.02807617\n",
      " -0.09179688  0.25195312  0.24121094  0.06640625  0.12988281  0.17089844\n",
      " -0.13671875  0.1875     -0.10009766 -0.04199219 -0.12011719  0.00524902\n",
      "  0.15625    -0.203125   -0.07128906 -0.06103516  0.01635742  0.18261719\n",
      "  0.03588867 -0.04248047  0.16796875 -0.15039062 -0.16992188  0.01831055\n",
      "  0.27734375 -0.01269531 -0.0390625  -0.15429688  0.18457031 -0.07910156\n",
      "  0.09033203 -0.02709961  0.08251953  0.06738281 -0.16113281 -0.19628906\n",
      " -0.15234375 -0.04711914  0.04760742  0.05908203 -0.16894531 -0.14941406\n",
      "  0.12988281  0.04321289  0.02624512 -0.1796875  -0.19628906  0.06445312\n",
      "  0.08935547  0.1640625  -0.03808594 -0.09814453 -0.01483154  0.1875\n",
      "  0.12792969  0.22753906  0.01818848 -0.07958984 -0.11376953 -0.06933594\n",
      " -0.15527344 -0.08105469 -0.09277344 -0.11328125 -0.15136719 -0.08007812\n",
      " -0.05126953 -0.15332031  0.11669922  0.06835938  0.0324707  -0.33984375\n",
      " -0.08154297 -0.08349609  0.04003906  0.04907227 -0.24121094 -0.13476562\n",
      " -0.05932617  0.12158203 -0.34179688  0.16503906  0.06176758 -0.18164062\n",
      "  0.20117188 -0.07714844  0.1640625   0.00402832  0.30273438 -0.10009766\n",
      " -0.13671875 -0.05957031  0.0625     -0.21289062 -0.06542969  0.1796875\n",
      " -0.07763672 -0.01928711 -0.15039062 -0.00106049  0.03417969  0.03344727\n",
      "  0.19335938  0.01965332 -0.19921875 -0.10644531  0.01525879  0.00927734\n",
      "  0.01416016 -0.02392578  0.05883789  0.02368164  0.125       0.04760742\n",
      " -0.05566406  0.11572266  0.14746094  0.1015625  -0.07128906 -0.07714844\n",
      " -0.12597656  0.0291748   0.09521484 -0.12402344 -0.109375   -0.12890625\n",
      "  0.16308594  0.28320312 -0.03149414  0.12304688 -0.23242188 -0.09375\n",
      " -0.12988281  0.0135498  -0.03881836 -0.08251953  0.00897217  0.16308594\n",
      "  0.10546875 -0.13867188 -0.16503906 -0.03857422  0.10839844 -0.10498047\n",
      "  0.06396484  0.38867188 -0.05981445 -0.0612793  -0.10449219 -0.16796875\n",
      "  0.07177734  0.13964844  0.15527344 -0.03125    -0.20214844 -0.12988281\n",
      " -0.10058594 -0.06396484 -0.08349609 -0.30273438 -0.08007812  0.02099609]\n"
     ]
    }
   ],
   "source": [
    "print('word id: {}'.format(word2id['man']))\n",
    "print('word vector:', embeddings[word2id['man']])"
   ]
  },
  {
   "cell_type": "code",
   "execution_count": 16,
   "metadata": {},
   "outputs": [],
   "source": [
    "#Indexing the sentences words by the w2v dictionary\n",
    "def preprocess_sentence(sentence, word2id, other_id=0):\n",
    "    sentence = sentence.split(' ')\n",
    "    sentence = np.array([word2id[c] if c in word2id else other_id for c in sentence])\n",
    "    return sentence"
   ]
  },
  {
   "cell_type": "code",
   "execution_count": 17,
   "metadata": {},
   "outputs": [],
   "source": [
    "train_dataset.sentence1 = train_dataset.sentence1.apply(lambda x: preprocess_sentence(x, word2id))\n",
    "train_dataset.sentence2 = train_dataset.sentence2.apply(lambda x: preprocess_sentence(x, word2id))"
   ]
  },
  {
   "cell_type": "code",
   "execution_count": 18,
   "metadata": {},
   "outputs": [],
   "source": [
    "from sklearn.model_selection import StratifiedShuffleSplit\n",
    "\n",
    "split = StratifiedShuffleSplit(n_splits=1, test_size=0.2, random_state=29)\n",
    "\n",
    "for train_index, test_index in split.split(train_dataset, train_dataset['gold_label']):\n",
    "    train_set = train_dataset.loc[train_index]\n",
    "    test_set = train_dataset.loc[test_index]"
   ]
  },
  {
   "cell_type": "code",
   "execution_count": 20,
   "metadata": {},
   "outputs": [
    {
     "data": {
      "text/plain": [
       "1    0.338646\n",
       "0    0.333084\n",
       "2    0.328270\n",
       "Name: gold_label, dtype: float64"
      ]
     },
     "execution_count": 20,
     "metadata": {},
     "output_type": "execute_result"
    }
   ],
   "source": [
    "train_dataset['gold_label'].value_counts() / len(train_dataset)"
   ]
  },
  {
   "cell_type": "code",
   "execution_count": 21,
   "metadata": {},
   "outputs": [
    {
     "data": {
      "text/plain": [
       "1    0.338682\n",
       "0    0.333066\n",
       "2    0.328252\n",
       "Name: gold_label, dtype: float64"
      ]
     },
     "execution_count": 21,
     "metadata": {},
     "output_type": "execute_result"
    }
   ],
   "source": [
    "train_set['gold_label'].value_counts() / len(train_set)"
   ]
  },
  {
   "cell_type": "code",
   "execution_count": 23,
   "metadata": {},
   "outputs": [
    {
     "data": {
      "text/html": [
       "<div>\n",
       "<style scoped>\n",
       "    .dataframe tbody tr th:only-of-type {\n",
       "        vertical-align: middle;\n",
       "    }\n",
       "\n",
       "    .dataframe tbody tr th {\n",
       "        vertical-align: top;\n",
       "    }\n",
       "\n",
       "    .dataframe thead th {\n",
       "        text-align: right;\n",
       "    }\n",
       "</style>\n",
       "<table border=\"1\" class=\"dataframe\">\n",
       "  <thead>\n",
       "    <tr style=\"text-align: right;\">\n",
       "      <th></th>\n",
       "      <th>gold_label</th>\n",
       "      <th>sentence1</th>\n",
       "      <th>sentence2</th>\n",
       "    </tr>\n",
       "  </thead>\n",
       "  <tbody>\n",
       "    <tr>\n",
       "      <th>6737</th>\n",
       "      <td>2</td>\n",
       "      <td>[0, 252, 2, 0, 1619, 5872, 2976, 28, 4866, 0]</td>\n",
       "      <td>[47067, 11, 2550, 0]</td>\n",
       "    </tr>\n",
       "    <tr>\n",
       "      <th>9165</th>\n",
       "      <td>0</td>\n",
       "      <td>[534, 1557, 2, 32825, 1201, 2, 32232, 587]</td>\n",
       "      <td>[0, 1557, 17088, 807, 19, 0, 2833, 0]</td>\n",
       "    </tr>\n",
       "  </tbody>\n",
       "</table>\n",
       "</div>"
      ],
      "text/plain": [
       "      gold_label                                      sentence1  \\\n",
       "6737           2  [0, 252, 2, 0, 1619, 5872, 2976, 28, 4866, 0]   \n",
       "9165           0     [534, 1557, 2, 32825, 1201, 2, 32232, 587]   \n",
       "\n",
       "                                  sentence2  \n",
       "6737                   [47067, 11, 2550, 0]  \n",
       "9165  [0, 1557, 17088, 807, 19, 0, 2833, 0]  "
      ]
     },
     "execution_count": 23,
     "metadata": {},
     "output_type": "execute_result"
    }
   ],
   "source": [
    "train_set.sample(2)"
   ]
  },
  {
   "cell_type": "code",
   "execution_count": 26,
   "metadata": {},
   "outputs": [
    {
     "data": {
      "text/plain": [
       "(51, 36)"
      ]
     },
     "execution_count": 26,
     "metadata": {},
     "output_type": "execute_result"
    }
   ],
   "source": [
    "max(train_set.sentence1.map(len)), max(train_set.sentence2.map(len))"
   ]
  },
  {
   "cell_type": "code",
   "execution_count": 39,
   "metadata": {},
   "outputs": [],
   "source": [
    "from keras.preprocessing.sequence import pad_sequences\n",
    "\n",
    "# max_seq_len = 51\n",
    "\n",
    "train_sent1 = pad_sequences(train_set.sentence1)#, maxlen=max_seq_len)\n",
    "train_sent2 = pad_sequences(train_set.sentence2)#, maxlen=max_seq_len)"
   ]
  },
  {
   "cell_type": "code",
   "execution_count": 40,
   "metadata": {},
   "outputs": [
    {
     "data": {
      "text/html": [
       "<div>\n",
       "<style scoped>\n",
       "    .dataframe tbody tr th:only-of-type {\n",
       "        vertical-align: middle;\n",
       "    }\n",
       "\n",
       "    .dataframe tbody tr th {\n",
       "        vertical-align: top;\n",
       "    }\n",
       "\n",
       "    .dataframe thead th {\n",
       "        text-align: right;\n",
       "    }\n",
       "</style>\n",
       "<table border=\"1\" class=\"dataframe\">\n",
       "  <thead>\n",
       "    <tr style=\"text-align: right;\">\n",
       "      <th></th>\n",
       "      <th>gold_label</th>\n",
       "      <th>sentence1</th>\n",
       "      <th>sentence2</th>\n",
       "    </tr>\n",
       "  </thead>\n",
       "  <tbody>\n",
       "    <tr>\n",
       "      <th>2039</th>\n",
       "      <td>2</td>\n",
       "      <td>[135, 438, 2, 1619, 24411, 9, 12363, 6, 83, 77...</td>\n",
       "      <td>[135, 438, 20, 2560, 120, 0, 4891, 6, 25940, 1...</td>\n",
       "    </tr>\n",
       "  </tbody>\n",
       "</table>\n",
       "</div>"
      ],
      "text/plain": [
       "      gold_label                                          sentence1  \\\n",
       "2039           2  [135, 438, 2, 1619, 24411, 9, 12363, 6, 83, 77...   \n",
       "\n",
       "                                              sentence2  \n",
       "2039  [135, 438, 20, 2560, 120, 0, 4891, 6, 25940, 1...  "
      ]
     },
     "execution_count": 40,
     "metadata": {},
     "output_type": "execute_result"
    }
   ],
   "source": [
    "train_dataset.sample(1)"
   ]
  },
  {
   "cell_type": "code",
   "execution_count": 41,
   "metadata": {},
   "outputs": [
    {
     "data": {
      "text/plain": [
       "gold_label                                                    1\n",
       "sentence1     [55, 534, 271, 2, 2837, 13864, 46, 9, 12, 247,...\n",
       "sentence2         [55, 810, 2, 16995, 13864, 8515, 31, 1158, 0]\n",
       "Name: 5666, dtype: object"
      ]
     },
     "execution_count": 41,
     "metadata": {},
     "output_type": "execute_result"
    }
   ],
   "source": [
    "train_set.iloc[3839]"
   ]
  },
  {
   "cell_type": "code",
   "execution_count": 42,
   "metadata": {},
   "outputs": [
    {
     "data": {
      "text/plain": [
       "(7479, 51)"
      ]
     },
     "execution_count": 42,
     "metadata": {},
     "output_type": "execute_result"
    }
   ],
   "source": [
    "train_sent1.shape"
   ]
  },
  {
   "cell_type": "code",
   "execution_count": 43,
   "metadata": {},
   "outputs": [
    {
     "data": {
      "text/plain": [
       "7479"
      ]
     },
     "execution_count": 43,
     "metadata": {},
     "output_type": "execute_result"
    }
   ],
   "source": [
    "len(train_set)"
   ]
  },
  {
   "cell_type": "code",
   "execution_count": 48,
   "metadata": {},
   "outputs": [],
   "source": [
    "X = np.c_[train_sent1, train_sent2]\n",
    "y = train_set.gold_label.values"
   ]
  },
  {
   "cell_type": "code",
   "execution_count": 52,
   "metadata": {},
   "outputs": [
    {
     "data": {
      "text/plain": [
       "array([    0,     0,     0,     0,     0,     0,     0,     0,     0,\n",
       "           0,     0,     0,     0,     0,     0,     0,     0,     0,\n",
       "           0,     0,     0,     0,     0,     0,     0,     0,     0,\n",
       "           0,     0,     0,     0,     0,     0,     0,     0,     0,\n",
       "           0,     0,     0,     0,     0,  4891, 23661,     2,     0,\n",
       "        5202,   136,    12,   283,   708,     0,     0,     0,     0,\n",
       "           0,     0,     0,     0,     0,     0,     0,     0,     0,\n",
       "           0,     0,     0,     0,     0,     0,     0,     0,     0,\n",
       "           0,     0,     0,     0,     0,     0,     0, 40204,   109,\n",
       "          12,  8285,     2,    12,  9068,     0])"
      ]
     },
     "execution_count": 52,
     "metadata": {},
     "output_type": "execute_result"
    }
   ],
   "source": [
    "X[0]"
   ]
  },
  {
   "cell_type": "code",
   "execution_count": 53,
   "metadata": {},
   "outputs": [
    {
     "name": "stderr",
     "output_type": "stream",
     "text": [
      "C:\\ProgramData\\Anaconda3\\lib\\site-packages\\sklearn\\utils\\validation.py:595: DataConversionWarning: Data with input dtype int32 was converted to float64 by StandardScaler.\n",
      "  warnings.warn(msg, DataConversionWarning)\n",
      "C:\\ProgramData\\Anaconda3\\lib\\site-packages\\sklearn\\utils\\validation.py:595: DataConversionWarning: Data with input dtype int32 was converted to float64 by StandardScaler.\n",
      "  warnings.warn(msg, DataConversionWarning)\n"
     ]
    }
   ],
   "source": [
    "# scalling\n",
    "from sklearn.preprocessing import StandardScaler\n",
    "\n",
    "scaler = StandardScaler()\n",
    "X_scaled = scaler.fit_transform(X)"
   ]
  },
  {
   "cell_type": "code",
   "execution_count": 54,
   "metadata": {},
   "outputs": [
    {
     "data": {
      "text/plain": [
       "array([ 0.        , -0.02047725, -0.02187414, -0.02617566, -0.03228823,\n",
       "       -0.02144495, -0.03854952, -0.03129755, -0.03653224, -0.0338778 ,\n",
       "       -0.0417775 , -0.02691258, -0.03622052, -0.02914081, -0.04478978,\n",
       "       -0.02727775, -0.03617314, -0.04218171, -0.0417029 , -0.04470584,\n",
       "       -0.04793425, -0.04454711, -0.04878459, -0.07841084, -0.06318903,\n",
       "       -0.07095275, -0.08122354, -0.08529464, -0.09860963, -0.11835802,\n",
       "       -0.11816616, -0.14997524, -0.1590034 , -0.17615721, -0.20210973,\n",
       "       -0.20527577, -0.22176935, -0.23554356, -0.2603899 , -0.27524081,\n",
       "       -0.29745527,  0.30935091,  2.16958851, -0.36794097, -0.36222745,\n",
       "        0.15975106, -0.38003913, -0.317211  , -0.31239207, -0.51059836,\n",
       "       -0.12865131, -0.01156398, -0.01156398, -0.01642415, -0.01489845,\n",
       "       -0.01173215, -0.01598143, -0.01354744, -0.01197678, -0.01164699,\n",
       "       -0.01215165, -0.01672854, -0.01166793, -0.02195524, -0.01512528,\n",
       "       -0.01745712, -0.01527309, -0.02538173, -0.02496408, -0.03681938,\n",
       "       -0.04950661, -0.04520862, -0.07250058, -0.06484915, -0.0899744 ,\n",
       "       -0.10101729, -0.12383887, -0.14235997, -0.1745798 ,  6.98882794,\n",
       "       -0.22056108, -0.26688907,  0.72385426, -0.29046392, -0.2887615 ,\n",
       "        0.3442124 , -0.22425164])"
      ]
     },
     "execution_count": 54,
     "metadata": {},
     "output_type": "execute_result"
    }
   ],
   "source": [
    "X_scaled[0]"
   ]
  },
  {
   "cell_type": "code",
   "execution_count": 55,
   "metadata": {},
   "outputs": [
    {
     "name": "stderr",
     "output_type": "stream",
     "text": [
      "C:\\ProgramData\\Anaconda3\\lib\\site-packages\\sklearn\\linear_model\\stochastic_gradient.py:166: FutureWarning: max_iter and tol parameters have been added in SGDClassifier in 0.19. If both are left unset, they default to max_iter=5 and tol=None. If tol is not None, max_iter defaults to max_iter=1000. From 0.21, default max_iter will be 1000, and default tol will be 1e-3.\n",
      "  FutureWarning)\n"
     ]
    },
    {
     "data": {
      "text/plain": [
       "SGDClassifier(alpha=0.0001, average=False, class_weight=None,\n",
       "       early_stopping=False, epsilon=0.1, eta0=0.0, fit_intercept=True,\n",
       "       l1_ratio=0.15, learning_rate='optimal', loss='hinge', max_iter=None,\n",
       "       n_iter=None, n_iter_no_change=5, n_jobs=None, penalty='l2',\n",
       "       power_t=0.5, random_state=29, shuffle=True, tol=None,\n",
       "       validation_fraction=0.1, verbose=0, warm_start=False)"
      ]
     },
     "execution_count": 55,
     "metadata": {},
     "output_type": "execute_result"
    }
   ],
   "source": [
    "from sklearn.linear_model import SGDClassifier\n",
    "\n",
    "sgd_clf = SGDClassifier(random_state=29)\n",
    "sgd_clf.fit(X_scaled, y)"
   ]
  },
  {
   "cell_type": "code",
   "execution_count": 56,
   "metadata": {},
   "outputs": [
    {
     "name": "stderr",
     "output_type": "stream",
     "text": [
      "C:\\ProgramData\\Anaconda3\\lib\\site-packages\\sklearn\\utils\\validation.py:595: DataConversionWarning: Data with input dtype int32 was converted to float64 by StandardScaler.\n",
      "  warnings.warn(msg, DataConversionWarning)\n",
      "C:\\ProgramData\\Anaconda3\\lib\\site-packages\\sklearn\\utils\\validation.py:595: DataConversionWarning: Data with input dtype int32 was converted to float64 by StandardScaler.\n",
      "  warnings.warn(msg, DataConversionWarning)\n"
     ]
    }
   ],
   "source": [
    "test_sent1 = pad_sequences(test_set.sentence1)\n",
    "test_sent2 = pad_sequences(test_set.sentence2)\n",
    "\n",
    "X_test = np.c_[test_sent1, test_sent2]\n",
    "\n",
    "X_test_scaled = scaler.fit_transform(X_test)"
   ]
  },
  {
   "cell_type": "code",
   "execution_count": 60,
   "metadata": {},
   "outputs": [
    {
     "ename": "ValueError",
     "evalue": "X has 98 features per sample; expecting 87",
     "output_type": "error",
     "traceback": [
      "\u001b[1;31m---------------------------------------------------------------------------\u001b[0m",
      "\u001b[1;31mValueError\u001b[0m                                Traceback (most recent call last)",
      "\u001b[1;32m<ipython-input-60-2296f3875e99>\u001b[0m in \u001b[0;36m<module>\u001b[1;34m\u001b[0m\n\u001b[1;32m----> 1\u001b[1;33m \u001b[0msgd_clf\u001b[0m\u001b[1;33m.\u001b[0m\u001b[0mpredict\u001b[0m\u001b[1;33m(\u001b[0m\u001b[1;33m[\u001b[0m\u001b[0mX_test_scaled\u001b[0m\u001b[1;33m[\u001b[0m\u001b[1;36m29\u001b[0m\u001b[1;33m]\u001b[0m\u001b[1;33m]\u001b[0m\u001b[1;33m)\u001b[0m\u001b[1;33m\u001b[0m\u001b[1;33m\u001b[0m\u001b[0m\n\u001b[0m",
      "\u001b[1;32mC:\\ProgramData\\Anaconda3\\lib\\site-packages\\sklearn\\linear_model\\base.py\u001b[0m in \u001b[0;36mpredict\u001b[1;34m(self, X)\u001b[0m\n\u001b[0;32m    279\u001b[0m             \u001b[0mPredicted\u001b[0m \u001b[1;32mclass\u001b[0m \u001b[0mlabel\u001b[0m \u001b[0mper\u001b[0m \u001b[0msample\u001b[0m\u001b[1;33m.\u001b[0m\u001b[1;33m\u001b[0m\u001b[1;33m\u001b[0m\u001b[0m\n\u001b[0;32m    280\u001b[0m         \"\"\"\n\u001b[1;32m--> 281\u001b[1;33m         \u001b[0mscores\u001b[0m \u001b[1;33m=\u001b[0m \u001b[0mself\u001b[0m\u001b[1;33m.\u001b[0m\u001b[0mdecision_function\u001b[0m\u001b[1;33m(\u001b[0m\u001b[0mX\u001b[0m\u001b[1;33m)\u001b[0m\u001b[1;33m\u001b[0m\u001b[1;33m\u001b[0m\u001b[0m\n\u001b[0m\u001b[0;32m    282\u001b[0m         \u001b[1;32mif\u001b[0m \u001b[0mlen\u001b[0m\u001b[1;33m(\u001b[0m\u001b[0mscores\u001b[0m\u001b[1;33m.\u001b[0m\u001b[0mshape\u001b[0m\u001b[1;33m)\u001b[0m \u001b[1;33m==\u001b[0m \u001b[1;36m1\u001b[0m\u001b[1;33m:\u001b[0m\u001b[1;33m\u001b[0m\u001b[1;33m\u001b[0m\u001b[0m\n\u001b[0;32m    283\u001b[0m             \u001b[0mindices\u001b[0m \u001b[1;33m=\u001b[0m \u001b[1;33m(\u001b[0m\u001b[0mscores\u001b[0m \u001b[1;33m>\u001b[0m \u001b[1;36m0\u001b[0m\u001b[1;33m)\u001b[0m\u001b[1;33m.\u001b[0m\u001b[0mastype\u001b[0m\u001b[1;33m(\u001b[0m\u001b[0mnp\u001b[0m\u001b[1;33m.\u001b[0m\u001b[0mint\u001b[0m\u001b[1;33m)\u001b[0m\u001b[1;33m\u001b[0m\u001b[1;33m\u001b[0m\u001b[0m\n",
      "\u001b[1;32mC:\\ProgramData\\Anaconda3\\lib\\site-packages\\sklearn\\linear_model\\base.py\u001b[0m in \u001b[0;36mdecision_function\u001b[1;34m(self, X)\u001b[0m\n\u001b[0;32m    260\u001b[0m         \u001b[1;32mif\u001b[0m \u001b[0mX\u001b[0m\u001b[1;33m.\u001b[0m\u001b[0mshape\u001b[0m\u001b[1;33m[\u001b[0m\u001b[1;36m1\u001b[0m\u001b[1;33m]\u001b[0m \u001b[1;33m!=\u001b[0m \u001b[0mn_features\u001b[0m\u001b[1;33m:\u001b[0m\u001b[1;33m\u001b[0m\u001b[1;33m\u001b[0m\u001b[0m\n\u001b[0;32m    261\u001b[0m             raise ValueError(\"X has %d features per sample; expecting %d\"\n\u001b[1;32m--> 262\u001b[1;33m                              % (X.shape[1], n_features))\n\u001b[0m\u001b[0;32m    263\u001b[0m \u001b[1;33m\u001b[0m\u001b[0m\n\u001b[0;32m    264\u001b[0m         scores = safe_sparse_dot(X, self.coef_.T,\n",
      "\u001b[1;31mValueError\u001b[0m: X has 98 features per sample; expecting 87"
     ]
    }
   ],
   "source": [
    "sgd_clf.predict([X_test_scaled[29]])"
   ]
  },
  {
   "cell_type": "code",
   "execution_count": null,
   "metadata": {},
   "outputs": [],
   "source": []
  }
 ],
 "metadata": {
  "kernelspec": {
   "display_name": "Python 3",
   "language": "python",
   "name": "python3"
  },
  "language_info": {
   "codemirror_mode": {
    "name": "ipython",
    "version": 3
   },
   "file_extension": ".py",
   "mimetype": "text/x-python",
   "name": "python",
   "nbconvert_exporter": "python",
   "pygments_lexer": "ipython3",
   "version": "3.7.1"
  },
  "toc": {
   "base_numbering": 1,
   "nav_menu": {},
   "number_sections": true,
   "sideBar": true,
   "skip_h1_title": false,
   "title_cell": "Table of Contents",
   "title_sidebar": "Contents",
   "toc_cell": false,
   "toc_position": {},
   "toc_section_display": true,
   "toc_window_display": false
  }
 },
 "nbformat": 4,
 "nbformat_minor": 2
}
