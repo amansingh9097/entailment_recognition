{
 "cells": [
  {
   "cell_type": "code",
   "execution_count": 66,
   "metadata": {},
   "outputs": [],
   "source": [
    "import pandas as pd\n",
    "import numpy as np\n",
    "import re\n",
    "from gensim.models import KeyedVectors\n",
    "from sklearn.model_selection import StratifiedShuffleSplit\n",
    "from keras.preprocessing.sequence import pad_sequences\n",
    "from keras.utils.np_utils import to_categorical\n",
    "from keras.models import Sequential\n",
    "from keras.layers.embeddings import Embedding\n",
    "from keras.layers import Dense, Embedding, LSTM, GRU\n",
    "from keras.layers.convolutional import Conv1D, MaxPooling1D\n",
    "from keras.layers import Flatten, Dropout\n",
    "from keras.layers import Bidirectional\n",
    "from keras.optimizers import RMSprop, Adam, SGD, Adagrad\n",
    "from keras.callbacks import ModelCheckpoint, EarlyStopping\n",
    "from keras.wrappers.scikit_learn import KerasClassifier\n",
    "import matplotlib.pyplot as plt\n",
    "%matplotlib inline"
   ]
  },
  {
   "cell_type": "code",
   "execution_count": 2,
   "metadata": {},
   "outputs": [
    {
     "name": "stdout",
     "output_type": "stream",
     "text": [
      "train dataset shape:  (9349, 3)\n",
      "train dataset shape:  (493, 2)\n",
      "train columns:  Index(['gold_label', 'sentence1', 'sentence2'], dtype='object')\n",
      "test columns:  Index(['sentence1', 'sentence2'], dtype='object')\n"
     ]
    }
   ],
   "source": [
    "training_dataset = pd.read_csv('dataset/train.csv')\n",
    "testing_dataset = pd.read_csv('dataset/test.csv')\n",
    "\n",
    "print('train dataset shape: ', training_dataset.shape)\n",
    "print('train dataset shape: ', testing_dataset.shape)\n",
    "print('train columns: ', training_dataset.columns)\n",
    "print('test columns: ', testing_dataset.columns)"
   ]
  },
  {
   "cell_type": "code",
   "execution_count": 23,
   "metadata": {},
   "outputs": [],
   "source": [
    "NUM_OF_WORDS = 100000"
   ]
  },
  {
   "cell_type": "code",
   "execution_count": 3,
   "metadata": {},
   "outputs": [],
   "source": [
    "def clean_sents(sentence):\n",
    "    return re.sub('[^A-Za-z\\-]+', ' ', str(sentence)).replace(\"'\", '').lower()"
   ]
  },
  {
   "cell_type": "code",
   "execution_count": 17,
   "metadata": {},
   "outputs": [],
   "source": [
    "def load_w2v_model(model_path, max_vocab_size=100000):\n",
    "    return KeyedVectors.load_word2vec_format(model_path, binary=True, limit=max_vocab_size)"
   ]
  },
  {
   "cell_type": "code",
   "execution_count": 30,
   "metadata": {},
   "outputs": [],
   "source": [
    "def word_embeddings(sentence, word2id_dict):\n",
    "    return np.array([word2id_dict[word] if word in word2id_dict else 0 for word in sentence.split(' ')])"
   ]
  },
  {
   "cell_type": "code",
   "execution_count": 5,
   "metadata": {},
   "outputs": [],
   "source": [
    "# def add_paddings(df.col1, df.col2, maxlen):\n",
    "#     max_seq_len = max( max(df.col1.map(len)), max(df.col2.map(len)) )\n",
    "#     df.col1 = pad_sequences(df.col1, maxlen=max_seq_len)\n",
    "#     df.col2 = pad_sequences()\n",
    "#     return "
   ]
  },
  {
   "cell_type": "code",
   "execution_count": 6,
   "metadata": {},
   "outputs": [],
   "source": [
    "train_df = training_dataset.copy()\n",
    "train_df.sentence1 = train_df.sentence1.apply(clean_sents)\n",
    "train_df.sentence2 = train_df.sentence2.apply(clean_sents)"
   ]
  },
  {
   "cell_type": "code",
   "execution_count": 7,
   "metadata": {},
   "outputs": [],
   "source": [
    "X = train_df.drop(['gold_label'], axis=1)\n",
    "y = train_df[['gold_label']]"
   ]
  },
  {
   "cell_type": "code",
   "execution_count": 8,
   "metadata": {},
   "outputs": [],
   "source": [
    "y_encoded, y_categories = y['gold_label'].factorize()"
   ]
  },
  {
   "cell_type": "code",
   "execution_count": 11,
   "metadata": {},
   "outputs": [],
   "source": [
    "y = to_categorical(y_encoded, num_classes=3)"
   ]
  },
  {
   "cell_type": "code",
   "execution_count": 19,
   "metadata": {},
   "outputs": [
    {
     "name": "stderr",
     "output_type": "stream",
     "text": [
      "C:\\ProgramData\\Anaconda3\\lib\\site-packages\\smart_open\\smart_open_lib.py:398: UserWarning: This function is deprecated, use smart_open.open instead. See the migration notes for details: https://github.com/RaRe-Technologies/smart_open/blob/master/README.rst#migrating-to-the-new-open-function\n",
      "  'See the migration notes for details: %s' % _MIGRATION_NOTES_URL\n"
     ]
    }
   ],
   "source": [
    "w2v_model = load_w2v_model(model_path='GoogleNews-vectors/GoogleNews-vectors-negative300.bin', max_vocab_size=100000)"
   ]
  },
  {
   "cell_type": "code",
   "execution_count": 28,
   "metadata": {},
   "outputs": [],
   "source": [
    "word2index = {word: i+1 for i, word in enumerate(w2v_model.index2word) if i < NUM_OF_WORDS}"
   ]
  },
  {
   "cell_type": "code",
   "execution_count": 50,
   "metadata": {},
   "outputs": [
    {
     "data": {
      "text/plain": [
       "(100001, 300)"
      ]
     },
     "execution_count": 50,
     "metadata": {},
     "output_type": "execute_result"
    }
   ],
   "source": [
    "embeddings = w2v_model.vectors[:NUM_OF_WORDS, :]\n",
    "embeddings = np.concatenate((np.zeros((1,300)), embeddings))\n",
    "embeddings.shape"
   ]
  },
  {
   "cell_type": "code",
   "execution_count": 31,
   "metadata": {},
   "outputs": [],
   "source": [
    "X['x1'] = X.sentence1.apply(lambda x: word_embeddings(x, word2index))\n",
    "X['x2'] = X.sentence2.apply(lambda x: word_embeddings(x, word2index))"
   ]
  },
  {
   "cell_type": "code",
   "execution_count": 38,
   "metadata": {},
   "outputs": [],
   "source": [
    "sss = StratifiedShuffleSplit(n_splits=1, test_size=0.2, random_state=29)\n",
    "\n",
    "for train_index, test_index in sss.split(X.drop(['sentence1','sentence2'],axis=1), y):\n",
    "    X_train = X.drop(['sentence1','sentence2'],axis=1).loc[train_index]\n",
    "    X_test = X.drop(['sentence1','sentence2'],axis=1).loc[test_index]\n",
    "    y_train = y[train_index]\n",
    "    y_test = y[test_index]"
   ]
  },
  {
   "cell_type": "code",
   "execution_count": 41,
   "metadata": {},
   "outputs": [],
   "source": [
    "max_seq_len = max( max(X_train.x1.map(len)), max(X_train.x2.map(len)) )\n",
    "\n",
    "x1_padded = pad_sequences(X_train.x1, maxlen=max_seq_len)\n",
    "x2_padded = pad_sequences(X_train.x2, maxlen=max_seq_len)\n",
    "\n",
    "x1_test_padded = pad_sequences(X_test.x1, maxlen=max_seq_len)\n",
    "x2_test_padded = pad_sequences(X_test.x2, maxlen=max_seq_len)"
   ]
  },
  {
   "cell_type": "code",
   "execution_count": 42,
   "metadata": {},
   "outputs": [],
   "source": [
    "train_set = np.c_[x1_padded, x2_padded]\n",
    "test_set = np.c_[x1_test_padded, x2_test_padded]"
   ]
  },
  {
   "cell_type": "code",
   "execution_count": 67,
   "metadata": {},
   "outputs": [
    {
     "name": "stdout",
     "output_type": "stream",
     "text": [
      "_________________________________________________________________\n",
      "Layer (type)                 Output Shape              Param #   \n",
      "=================================================================\n",
      "embedding_3 (Embedding)      (None, 102, 300)          30000300  \n",
      "_________________________________________________________________\n",
      "gru_3 (GRU)                  (None, 32)                31968     \n",
      "_________________________________________________________________\n",
      "dropout_3 (Dropout)          (None, 32)                0         \n",
      "_________________________________________________________________\n",
      "dense_3 (Dense)              (None, 3)                 99        \n",
      "=================================================================\n",
      "Total params: 30,032,367\n",
      "Trainable params: 30,032,367\n",
      "Non-trainable params: 0\n",
      "_________________________________________________________________\n",
      "None\n",
      "Train on 7479 samples, validate on 1870 samples\n",
      "Epoch 1/10\n",
      "7479/7479 [==============================] - 61s 8ms/step - loss: 0.6131 - acc: 0.6760 - val_loss: 0.5824 - val_acc: 0.6968\n",
      "\n",
      "Epoch 00001: val_acc improved from -inf to 0.69679, saving model to keras-model-epoch-01-val_acc-0.6968.hdf5\n",
      "Epoch 2/10\n",
      "7479/7479 [==============================] - 61s 8ms/step - loss: 0.5501 - acc: 0.7233 - val_loss: 0.5584 - val_acc: 0.7191\n",
      "\n",
      "Epoch 00002: val_acc improved from 0.69679 to 0.71907, saving model to keras-model-epoch-02-val_acc-0.7191.hdf5\n",
      "Epoch 3/10\n",
      "7479/7479 [==============================] - 60s 8ms/step - loss: 0.5096 - acc: 0.7542 - val_loss: 0.5581 - val_acc: 0.7221\n",
      "\n",
      "Epoch 00003: val_acc improved from 0.71907 to 0.72210, saving model to keras-model-epoch-03-val_acc-0.7221.hdf5\n",
      "Epoch 4/10\n",
      "7479/7479 [==============================] - 60s 8ms/step - loss: 0.4816 - acc: 0.7727 - val_loss: 0.5656 - val_acc: 0.7210\n",
      "\n",
      "Epoch 00004: val_acc did not improve from 0.72210\n",
      "Epoch 5/10\n",
      "7479/7479 [==============================] - 59s 8ms/step - loss: 0.4631 - acc: 0.7841 - val_loss: 0.5761 - val_acc: 0.7187\n",
      "\n",
      "Epoch 00005: val_acc did not improve from 0.72210\n",
      "Epoch 6/10\n",
      "7479/7479 [==============================] - 66s 9ms/step - loss: 0.4442 - acc: 0.7982 - val_loss: 0.5813 - val_acc: 0.7212\n",
      "\n",
      "Epoch 00006: val_acc did not improve from 0.72210\n",
      "Epoch 00006: early stopping\n"
     ]
    }
   ],
   "source": [
    "def build_model():\n",
    "    model = Sequential()\n",
    "    model.add(Embedding(embeddings.shape[0], embeddings.shape[1], input_length=max_seq_len*2))\n",
    "    model.add(GRU(units=32, dropout=(0.4), recurrent_dropout=(0.4)))\n",
    "    model.add(Dropout(rate=0.4))\n",
    "    model.add(Dense(3, activation='softmax'))\n",
    "    print(model.summary())\n",
    "\n",
    "    optimizer = RMSprop(lr=0.001, epsilon=1e-08) #Adam(lr=0.001, epsilon=1e-08)\n",
    "    model.compile(loss='binary_crossentropy', optimizer=optimizer, metrics=['accuracy'])\n",
    "    return model\n",
    "\n",
    "\n",
    "filepath = \"keras-model-epoch-{epoch:02d}-val_acc-{val_acc:.4f}.hdf5\"\n",
    "chk_point = ModelCheckpoint(filepath, monitor='val_acc', verbose=1, save_best_only=True, save_weights_only=False)\n",
    "early_stop = EarlyStopping(monitor='val_acc', patience=3, verbose=1)\n",
    "callbacks_list = [early_stop, chk_point]\n",
    "\n",
    "keras_model = build_model()\n",
    "history = keras_model.fit(train_set, y_train, batch_size=32, epochs=10, validation_data=(test_set, y_test), \n",
    "                          callbacks=callbacks_list)"
   ]
  },
  {
   "cell_type": "code",
   "execution_count": 68,
   "metadata": {},
   "outputs": [
    {
     "data": {
      "text/plain": [
       "dict_keys(['val_loss', 'val_acc', 'loss', 'acc'])"
      ]
     },
     "execution_count": 68,
     "metadata": {},
     "output_type": "execute_result"
    }
   ],
   "source": [
    "history.history.keys()"
   ]
  },
  {
   "cell_type": "code",
   "execution_count": 73,
   "metadata": {},
   "outputs": [
    {
     "data": {
      "image/png": "[encoded data removed]",
      "text/plain": [
       "<Figure size 432x288 with 2 Axes>"
      ]
     },
     "metadata": {
      "needs_background": "light"
     },
     "output_type": "display_data"
    }
   ],
   "source": [
    "fig, ax = plt.subplots(2,1)\n",
    "ax[0].plot(history.history['loss'], color='b', label=\"Training loss\")\n",
    "ax[0].plot(history.history['val_loss'], color='r', label=\"validation loss\",axes =ax[0])\n",
    "legend = ax[0].legend(loc='best', shadow=True)\n",
    "\n",
    "ax[1].plot(history.history['acc'], color='b', label=\"Training accuracy\")\n",
    "ax[1].plot(history.history['val_acc'], color='r',label=\"Validation accuracy\")\n",
    "legend = ax[1].legend(loc='best', shadow=True)\n",
    "plt.xlabel(\"epochs\")\n",
    "\n",
    "plt.show()"
   ]
  },
  {
   "cell_type": "code",
   "execution_count": 74,
   "metadata": {},
   "outputs": [],
   "source": [
    "test_df = testing_dataset.copy()\n",
    "test_df.sentence1 = test_df.sentence1.apply(clean_sents)\n",
    "test_df.sentence2 = test_df.sentence2.apply(clean_sents)"
   ]
  },
  {
   "cell_type": "code",
   "execution_count": 75,
   "metadata": {},
   "outputs": [],
   "source": [
    "test_df['x1'] = test_df.sentence1.apply(lambda x: word_embeddings(x, word2index))\n",
    "test_df['x2'] = test_df.sentence2.apply(lambda x: word_embeddings(x, word2index))"
   ]
  },
  {
   "cell_type": "code",
   "execution_count": 77,
   "metadata": {},
   "outputs": [],
   "source": [
    "X_new = test_df[['x1','x2']]\n",
    "\n",
    "x1_padded = pad_sequences(X_new.x1, maxlen=max_seq_len)\n",
    "x2_padded = pad_sequences(X_new.x2, maxlen=max_seq_len)\n",
    "\n",
    "X_new_prepared = np.c_[x1_padded, x2_padded]"
   ]
  },
  {
   "cell_type": "code",
   "execution_count": 80,
   "metadata": {},
   "outputs": [],
   "source": [
    "final_pred = keras_model.predict(X_new_prepared)"
   ]
  },
  {
   "cell_type": "code",
   "execution_count": 91,
   "metadata": {},
   "outputs": [
    {
     "data": {
      "text/plain": [
       "(493, 3)"
      ]
     },
     "execution_count": 91,
     "metadata": {},
     "output_type": "execute_result"
    }
   ],
   "source": [
    "final_pred.shape"
   ]
  },
  {
   "cell_type": "code",
   "execution_count": 95,
   "metadata": {},
   "outputs": [],
   "source": [
    "final_pred = np.argmax(final_pred, axis=1)"
   ]
  },
  {
   "cell_type": "code",
   "execution_count": 97,
   "metadata": {},
   "outputs": [
    {
     "data": {
      "text/plain": [
       "Index(['contradiction', 'entailment', 'neutral'], dtype='object')"
      ]
     },
     "execution_count": 97,
     "metadata": {},
     "output_type": "execute_result"
    }
   ],
   "source": [
    "y_categories"
   ]
  },
  {
   "cell_type": "code",
   "execution_count": 98,
   "metadata": {},
   "outputs": [
    {
     "data": {
      "text/plain": [
       "array([0, 1, 2, ..., 2, 0, 1], dtype=int64)"
      ]
     },
     "execution_count": 98,
     "metadata": {},
     "output_type": "execute_result"
    }
   ],
   "source": [
    "y_encoded"
   ]
  },
  {
   "cell_type": "code",
   "execution_count": 99,
   "metadata": {},
   "outputs": [
    {
     "data": {
      "text/plain": [
       "array([0, 2, 0, 1, 2], dtype=int64)"
      ]
     },
     "execution_count": 99,
     "metadata": {},
     "output_type": "execute_result"
    }
   ],
   "source": [
    "final_pred[:5]"
   ]
  },
  {
   "cell_type": "code",
   "execution_count": 104,
   "metadata": {},
   "outputs": [],
   "source": [
    "final_df = pd.DataFrame(columns=['gold_label'])\n",
    "for ix, pred in enumerate(final_pred):\n",
    "    if pred == 0:\n",
    "        final_df.loc[len(final_df), 'gold_label'] = 'contradiction'\n",
    "    elif pred == 1:\n",
    "        final_df.loc[len(final_df), 'gold_label'] = 'entailment'\n",
    "    else:\n",
    "        final_df.loc[len(final_df), 'gold_label'] = 'neutral'"
   ]
  },
  {
   "cell_type": "code",
   "execution_count": 106,
   "metadata": {},
   "outputs": [
    {
     "data": {
      "text/html": [
       "<div>\n",
       "<style scoped>\n",
       "    .dataframe tbody tr th:only-of-type {\n",
       "        vertical-align: middle;\n",
       "    }\n",
       "\n",
       "    .dataframe tbody tr th {\n",
       "        vertical-align: top;\n",
       "    }\n",
       "\n",
       "    .dataframe thead th {\n",
       "        text-align: right;\n",
       "    }\n",
       "</style>\n",
       "<table border=\"1\" class=\"dataframe\">\n",
       "  <thead>\n",
       "    <tr style=\"text-align: right;\">\n",
       "      <th></th>\n",
       "      <th>gold_label</th>\n",
       "    </tr>\n",
       "  </thead>\n",
       "  <tbody>\n",
       "    <tr>\n",
       "      <th>0</th>\n",
       "      <td>contradiction</td>\n",
       "    </tr>\n",
       "    <tr>\n",
       "      <th>1</th>\n",
       "      <td>neutral</td>\n",
       "    </tr>\n",
       "    <tr>\n",
       "      <th>2</th>\n",
       "      <td>contradiction</td>\n",
       "    </tr>\n",
       "    <tr>\n",
       "      <th>3</th>\n",
       "      <td>entailment</td>\n",
       "    </tr>\n",
       "    <tr>\n",
       "      <th>4</th>\n",
       "      <td>neutral</td>\n",
       "    </tr>\n",
       "  </tbody>\n",
       "</table>\n",
       "</div>"
      ],
      "text/plain": [
       "      gold_label\n",
       "0  contradiction\n",
       "1        neutral\n",
       "2  contradiction\n",
       "3     entailment\n",
       "4        neutral"
      ]
     },
     "execution_count": 106,
     "metadata": {},
     "output_type": "execute_result"
    }
   ],
   "source": [
    "final_df.to_csv('predicted.csv', index=False)\n",
    "final_df.head()"
   ]
  },
  {
   "cell_type": "code",
   "execution_count": 107,
   "metadata": {},
   "outputs": [
    {
     "data": {
      "text/plain": [
       "493"
      ]
     },
     "execution_count": 107,
     "metadata": {},
     "output_type": "execute_result"
    }
   ],
   "source": [
    "len(final_df)"
   ]
  },
  {
   "cell_type": "code",
   "execution_count": null,
   "metadata": {},
   "outputs": [],
   "source": []
  }
 ],
 "metadata": {
  "kernelspec": {
   "display_name": "Python 3",
   "language": "python",
   "name": "python3"
  },
  "language_info": {
   "codemirror_mode": {
    "name": "ipython",
    "version": 3
   },
   "file_extension": ".py",
   "mimetype": "text/x-python",
   "name": "python",
   "nbconvert_exporter": "python",
   "pygments_lexer": "ipython3",
   "version": "3.7.1"
  },
  "toc": {
   "base_numbering": 1,
   "nav_menu": {},
   "number_sections": true,
   "sideBar": true,
   "skip_h1_title": false,
   "title_cell": "Table of Contents",
   "title_sidebar": "Contents",
   "toc_cell": false,
   "toc_position": {},
   "toc_section_display": true,
   "toc_window_display": false
  }
 },
 "nbformat": 4,
 "nbformat_minor": 2
}
